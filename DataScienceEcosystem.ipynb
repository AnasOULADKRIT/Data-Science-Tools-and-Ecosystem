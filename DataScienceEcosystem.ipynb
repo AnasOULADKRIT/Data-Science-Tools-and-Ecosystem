{
 "cells": [
  {
   "cell_type": "markdown",
   "id": "3b2bc443-b288-4479-8a44-3b70c175be21",
   "metadata": {},
   "source": [
    "# Data Science Tools and Ecosystem are summarized"
   ]
  },
  {
   "cell_type": "markdown",
   "id": "0df9e906-5186-4ae3-ba14-19f236d36ef2",
   "metadata": {},
   "source": [
    "## In this notebook, Data Science Tools and Ecosystem are summarized."
   ]
  },
  {
   "cell_type": "markdown",
   "id": "243f1e53-77c2-4858-836d-c5650278081f",
   "metadata": {},
   "source": [
    "Some of the popular languages that Data Scientists use are:\n",
    "1. python\n",
    "2. C\n",
    "3. php"
   ]
  },
  {
   "cell_type": "markdown",
   "id": "76b5c990-166a-4f1a-b84a-2638ed22f3f4",
   "metadata": {},
   "source": [
    "Some of the commonly used libraries used by Data Scientists include:\n",
    "+ numpy\n",
    "+ matplotlib\n",
    "+ pandas"
   ]
  },
  {
   "cell_type": "markdown",
   "id": "b5605564-106b-4ea6-ba84-67a554ab670f",
   "metadata": {},
   "source": [
    " |Data Science Tools|\n",
    "--------------------|\n",
    " | Visual studio code|\n",
    " | Jupyter Notebook|\n",
    " | Rstudio\n"
   ]
  },
  {
   "cell_type": "markdown",
   "id": "fce05a2b-6aea-4a3d-bc06-39678d95fb76",
   "metadata": {},
   "source": [
    "### Below are a few examples of evaluating arithmetic expressions in Python"
   ]
  },
  {
   "cell_type": "code",
   "execution_count": 4,
   "id": "447a7c5f-3ff9-40fb-b717-c4204f7e3dd4",
   "metadata": {},
   "outputs": [
    {
     "data": {
      "text/plain": [
       "17"
      ]
     },
     "execution_count": 4,
     "metadata": {},
     "output_type": "execute_result"
    }
   ],
   "source": [
    "#This a simple arithmetic expression to mutiply then add integers.\n",
    "(3*4)+5"
   ]
  },
  {
   "cell_type": "code",
   "execution_count": 7,
   "id": "d065c9a4-540b-4ed2-9c73-d42fccc9a1bf",
   "metadata": {},
   "outputs": [
    {
     "name": "stdout",
     "output_type": "stream",
     "text": [
      "3.3333333333333335\n"
     ]
    }
   ],
   "source": [
    "#This will convert 200 minutes to hours by diving by 60.\n",
    "convertToHours = 200 * 1/60\n",
    "print(convertToHours)"
   ]
  },
  {
   "cell_type": "markdown",
   "id": "485e1649-9166-4876-a9ad-1b2de7e08391",
   "metadata": {},
   "source": [
    "**Objectives:**\n",
    "\n",
    "- List popular languages for Data Science  \n",
    "- Understand basic data manipulation techniques  \n",
    "- Explore data visualization tools  \n",
    "- Learn to use Jupyter Notebook effectively  \n",
    "- Apply simple machine learning algorithms "
   ]
  },
  {
   "cell_type": "markdown",
   "id": "415e9ca9-1afa-49b1-bb7c-1ae7b0b7b8fe",
   "metadata": {},
   "source": [
    "## Author\n",
    "ANAS OULADKRIT"
   ]
  },
  {
   "cell_type": "code",
   "execution_count": null,
   "id": "1ae1e56b-ad3f-40b3-bd93-f52a0ebbd50c",
   "metadata": {},
   "outputs": [],
   "source": []
  }
 ],
 "metadata": {
  "kernelspec": {
   "display_name": "Python 3 (ipykernel)",
   "language": "python",
   "name": "python3"
  },
  "language_info": {
   "codemirror_mode": {
    "name": "ipython",
    "version": 3
   },
   "file_extension": ".py",
   "mimetype": "text/x-python",
   "name": "python",
   "nbconvert_exporter": "python",
   "pygments_lexer": "ipython3",
   "version": "3.13.5"
  }
 },
 "nbformat": 4,
 "nbformat_minor": 5
}
